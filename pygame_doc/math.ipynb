{
 "cells": [
  {
   "cell_type": "markdown",
   "id": "774b9f9f",
   "metadata": {},
   "source": [
    "# pygame.math\n",
    "\n",
    "主要有Vector2和Vector3类来抽象二维向量和三维向量"
   ]
  }
 ],
 "metadata": {
  "language_info": {
   "name": "python"
  }
 },
 "nbformat": 4,
 "nbformat_minor": 5
}

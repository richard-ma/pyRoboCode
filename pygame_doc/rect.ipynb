{
 "cells": [
  {
   "cell_type": "markdown",
   "id": "97b4481f",
   "metadata": {},
   "source": [
    "# pygame.rect\n",
    "\n",
    "所有pygame中的对象都使用矩形表示，内部模型是矩形，方便做碰撞检测之类的操作。"
   ]
  },
  {
   "cell_type": "markdown",
   "id": "493bfcde",
   "metadata": {},
   "source": [
    "## 创建Rect对象"
   ]
  },
  {
   "cell_type": "code",
   "execution_count": 4,
   "id": "ecbf473e",
   "metadata": {},
   "outputs": [
    {
     "data": {
      "text/plain": [
       "(<rect(10, 20, 100, 50)>, <rect(30, 40, 120, 60)>, <rect(10, 20, 100, 50)>)"
      ]
     },
     "execution_count": 4,
     "metadata": {},
     "output_type": "execute_result"
    }
   ],
   "source": [
    "import pygame\n",
    "\n",
    "# 1. 直接用参数创建 Rect(left, top, width, height)\n",
    "rect1 = pygame.Rect(10, 20, 100, 50)\n",
    "\n",
    "# 2. 用序列创建 Rect((left, top), (width, height))\n",
    "rect2 = pygame.Rect((30, 40), (120, 60))\n",
    "\n",
    "# 3. 用另一个 Rect 对象创建\n",
    "rect3 = pygame.Rect(rect1)\n",
    "\n",
    "# 展示所有 Rect 对象\n",
    "rect1, rect2, rect3"
   ]
  },
  {
   "cell_type": "markdown",
   "id": "ea67a12c",
   "metadata": {},
   "source": [
    "## Rect对象属性"
   ]
  },
  {
   "cell_type": "code",
   "execution_count": 5,
   "id": "a0ca80fc",
   "metadata": {},
   "outputs": [
    {
     "name": "stdout",
     "output_type": "stream",
     "text": [
      "rect1 的 x 属性: 10, y 属性: 20\n",
      "rect2 的 x 属性: 30, y 属性: 40\n",
      "rect3 的 x 属性: 10, y 属性: 20\n"
     ]
    }
   ],
   "source": [
    "# 展示Rect对象的x和y属性\n",
    "print(f\"rect1 的 x 属性: {rect1.x}, y 属性: {rect1.y}\")\n",
    "print(f\"rect2 的 x 属性: {rect2.x}, y 属性: {rect2.y}\")\n",
    "print(f\"rect3 的 x 属性: {rect3.x}, y 属性: {rect3.y}\")"
   ]
  },
  {
   "cell_type": "code",
   "execution_count": 6,
   "id": "0dcac28b",
   "metadata": {},
   "outputs": [
    {
     "name": "stdout",
     "output_type": "stream",
     "text": [
      "rect1: top=20, left=10, bottom=70, right=110\n",
      "rect2: top=40, left=30, bottom=100, right=150\n",
      "rect3: top=20, left=10, bottom=70, right=110\n"
     ]
    }
   ],
   "source": [
    "# 展示Rect对象的 top, left, bottom, right 属性\n",
    "print(f\"rect1: top={rect1.top}, left={rect1.left}, bottom={rect1.bottom}, right={rect1.right}\")\n",
    "print(f\"rect2: top={rect2.top}, left={rect2.left}, bottom={rect2.bottom}, right={rect2.right}\")\n",
    "print(f\"rect3: top={rect3.top}, left={rect3.left}, bottom={rect3.bottom}, right={rect3.right}\")"
   ]
  },
  {
   "cell_type": "code",
   "execution_count": 7,
   "id": "a0e4f6e7",
   "metadata": {},
   "outputs": [
    {
     "name": "stdout",
     "output_type": "stream",
     "text": [
      "rect1: topleft=(10, 20), bottomleft=(10, 70), topright=(110, 20), bottomright=(110, 70)\n",
      "rect2: topleft=(30, 40), bottomleft=(30, 100), topright=(150, 40), bottomright=(150, 100)\n",
      "rect3: topleft=(10, 20), bottomleft=(10, 70), topright=(110, 20), bottomright=(110, 70)\n"
     ]
    }
   ],
   "source": [
    "# 展示Rect对象的 topleft, bottomleft, topright, bottomright 属性\n",
    "print(f\"rect1: topleft={rect1.topleft}, bottomleft={rect1.bottomleft}, topright={rect1.topright}, bottomright={rect1.bottomright}\")\n",
    "print(f\"rect2: topleft={rect2.topleft}, bottomleft={rect2.bottomleft}, topright={rect2.topright}, bottomright={rect2.bottomright}\")\n",
    "print(f\"rect3: topleft={rect3.topleft}, bottomleft={rect3.bottomleft}, topright={rect3.topright}, bottomright={rect3.bottomright}\")"
   ]
  },
  {
   "cell_type": "code",
   "execution_count": 8,
   "id": "32cd1fd6",
   "metadata": {},
   "outputs": [
    {
     "name": "stdout",
     "output_type": "stream",
     "text": [
      "rect1: midtop=(60, 20), midbottom=(60, 70), midleft=(10, 45), midright=(110, 45)\n",
      "rect2: midtop=(90, 40), midbottom=(90, 100), midleft=(30, 70), midright=(150, 70)\n",
      "rect3: midtop=(60, 20), midbottom=(60, 70), midleft=(10, 45), midright=(110, 45)\n"
     ]
    }
   ],
   "source": [
    "# 展示Rect对象的 midtop, midbottom, midleft, midright 属性\n",
    "print(f\"rect1: midtop={rect1.midtop}, midbottom={rect1.midbottom}, midleft={rect1.midleft}, midright={rect1.midright}\")\n",
    "print(f\"rect2: midtop={rect2.midtop}, midbottom={rect2.midbottom}, midleft={rect2.midleft}, midright={rect2.midright}\")\n",
    "print(f\"rect3: midtop={rect3.midtop}, midbottom={rect3.midbottom}, midleft={rect3.midleft}, midright={rect3.midright}\")"
   ]
  },
  {
   "cell_type": "code",
   "execution_count": 9,
   "id": "8e9b6474",
   "metadata": {},
   "outputs": [
    {
     "name": "stdout",
     "output_type": "stream",
     "text": [
      "rect1: center=(60, 45), centerx=60, centery=45\n",
      "rect2: center=(90, 70), centerx=90, centery=70\n",
      "rect3: center=(60, 45), centerx=60, centery=45\n"
     ]
    }
   ],
   "source": [
    "# 展示Rect对象的 center, centerx, centery 属性\n",
    "print(f\"rect1: center={rect1.center}, centerx={rect1.centerx}, centery={rect1.centery}\")\n",
    "print(f\"rect2: center={rect2.center}, centerx={rect2.centerx}, centery={rect2.centery}\")\n",
    "print(f\"rect3: center={rect3.center}, centerx={rect3.centerx}, centery={rect3.centery}\")"
   ]
  },
  {
   "cell_type": "code",
   "execution_count": 10,
   "id": "cbfc7126",
   "metadata": {},
   "outputs": [
    {
     "name": "stdout",
     "output_type": "stream",
     "text": [
      "rect1: size=(100, 50), width=100, height=50\n",
      "rect2: size=(120, 60), width=120, height=60\n",
      "rect3: size=(100, 50), width=100, height=50\n"
     ]
    }
   ],
   "source": [
    "# 展示Rect对象的 size, width, height 属性\n",
    "print(f\"rect1: size={rect1.size}, width={rect1.width}, height={rect1.height}\")\n",
    "print(f\"rect2: size={rect2.size}, width={rect2.width}, height={rect2.height}\")\n",
    "print(f\"rect3: size={rect3.size}, width={rect3.width}, height={rect3.height}\")"
   ]
  },
  {
   "cell_type": "code",
   "execution_count": 11,
   "id": "8a6f9f94",
   "metadata": {},
   "outputs": [
    {
     "name": "stdout",
     "output_type": "stream",
     "text": [
      "rect1: w=100, h=50\n",
      "rect2: w=120, h=60\n",
      "rect3: w=100, h=50\n"
     ]
    }
   ],
   "source": [
    "# 展示Rect对象的 w 和 h 属性\n",
    "print(f\"rect1: w={rect1.w}, h={rect1.h}\")\n",
    "print(f\"rect2: w={rect2.w}, h={rect2.h}\")\n",
    "print(f\"rect3: w={rect3.w}, h={rect3.h}\")"
   ]
  },
  {
   "cell_type": "code",
   "execution_count": 12,
   "id": "74dbc964",
   "metadata": {},
   "outputs": [
    {
     "name": "stdout",
     "output_type": "stream",
     "text": [
      "rect1.move(50, 30) 返回的新Rect: <rect(60, 50, 100, 50)>, 原rect1: <rect(10, 20, 100, 50)>\n",
      "rect2.move_ip(50, 30) 后的rect2: <rect(80, 70, 120, 60)>，调用前rect2: <rect(30, 40, 120, 60)>\n"
     ]
    }
   ],
   "source": [
    "# move方法返回一个新的Rect对象，原对象不变\n",
    "rect1_moved = rect1.move(50, 30)\n",
    "print(f\"rect1.move(50, 30) 返回的新Rect: {rect1_moved}, 原rect1: {rect1}\")\n",
    "\n",
    "# move_ip方法会直接修改原对象的位置（in place）\n",
    "rect2_before = rect2.copy()\n",
    "rect2.move_ip(50, 30)\n",
    "print(f\"rect2.move_ip(50, 30) 后的rect2: {rect2}，调用前rect2: {rect2_before}\")"
   ]
  },
  {
   "cell_type": "code",
   "execution_count": 13,
   "id": "a4bdb7cd",
   "metadata": {},
   "outputs": [
    {
     "name": "stdout",
     "output_type": "stream",
     "text": [
      "rect1.inflate(20, 10) 返回的新Rect: <rect(0, 15, 120, 60)>, 原rect1: <rect(10, 20, 100, 50)>\n",
      "rect2.inflate_ip(20, 10) 后的rect2: <rect(70, 65, 140, 70)>，调用前rect2: <rect(80, 70, 120, 60)>\n"
     ]
    }
   ],
   "source": [
    "# inflate方法返回一个新的Rect对象，原对象不变\n",
    "rect1_inflated = rect1.inflate(20, 10)\n",
    "print(f\"rect1.inflate(20, 10) 返回的新Rect: {rect1_inflated}, 原rect1: {rect1}\")\n",
    "\n",
    "# inflate_ip方法会直接修改原对象的尺寸（in place）\n",
    "rect2_before_inflate = rect2.copy()\n",
    "rect2.inflate_ip(20, 10)\n",
    "print(f\"rect2.inflate_ip(20, 10) 后的rect2: {rect2}，调用前rect2: {rect2_before_inflate}\")"
   ]
  },
  {
   "cell_type": "code",
   "execution_count": 14,
   "id": "27898711",
   "metadata": {},
   "outputs": [
    {
     "name": "stdout",
     "output_type": "stream",
     "text": [
      "rect1.scale_by(2, 1.5) 返回的新Rect: <rect(-40, 7, 200, 75)>, 原rect1: <rect(10, 20, 100, 50)>\n",
      "rect2.scale_by(0.5, 1) 只缩放宽度: <rect(105, 65, 70, 70)>\n",
      "rect3.scale_by(1, 2) 只缩放高度: <rect(10, -5, 100, 100)>\n"
     ]
    }
   ],
   "source": [
    "# scale_by方法用于按比例缩放Rect对象的尺寸，返回一个新的Rect对象，原对象不变\n",
    "rect1_scaled = rect1.scale_by(2, 1.5)\n",
    "print(f\"rect1.scale_by(2, 1.5) 返回的新Rect: {rect1_scaled}, 原rect1: {rect1}\")\n",
    "\n",
    "# 也可以只缩放宽度或高度\n",
    "rect2_scaled_width = rect2.scale_by(0.5, 1)\n",
    "print(f\"rect2.scale_by(0.5, 1) 只缩放宽度: {rect2_scaled_width}\")\n",
    "\n",
    "rect3_scaled_height = rect3.scale_by(1, 2)\n",
    "print(f\"rect3.scale_by(1, 2) 只缩放高度: {rect3_scaled_height}\")"
   ]
  },
  {
   "cell_type": "code",
   "execution_count": 15,
   "id": "3f6c797c",
   "metadata": {},
   "outputs": [
    {
     "name": "stdout",
     "output_type": "stream",
     "text": [
      "rect1.update(5, 10, 80, 40) 后的rect1_copy: <rect(5, 10, 80, 40)>\n",
      "rect2.update((15, 25, 60, 30)) 后的rect2_copy: <rect(15, 25, 60, 30)>\n"
     ]
    }
   ],
   "source": [
    "# update方法可以用来一次性更新Rect对象的位置和尺寸\n",
    "# 语法：rect.update(left, top, width, height)\n",
    "rect1_copy = rect1.copy()\n",
    "rect1_copy.update(5, 10, 80, 40)\n",
    "print(f\"rect1.update(5, 10, 80, 40) 后的rect1_copy: {rect1_copy}\")\n",
    "\n",
    "# 也可以用序列参数更新\n",
    "rect2_copy = rect2.copy()\n",
    "rect2_copy.update((15, 25, 60, 30))\n",
    "print(f\"rect2.update((15, 25, 60, 30)) 后的rect2_copy: {rect2_copy}\")"
   ]
  },
  {
   "cell_type": "code",
   "execution_count": 16,
   "id": "30b6335c",
   "metadata": {},
   "outputs": [
    {
     "name": "stdout",
     "output_type": "stream",
     "text": [
      "rect1.clamp(rect2) 返回的新Rect: <rect(70, 65, 100, 50)>, rect1: <rect(10, 20, 100, 50)>, rect2: <rect(70, 65, 140, 70)>\n",
      "rect2.clamp(rect2) 返回的新Rect: <rect(70, 65, 140, 70)>, rect2: <rect(70, 65, 140, 70)>\n"
     ]
    }
   ],
   "source": [
    "# clamp方法会返回一个新的Rect对象，使其保持原有尺寸，并且完全包含在目标Rect内\n",
    "# 例如，将rect1放到rect2内，返回的新Rect会尽量靠近rect2的中心\n",
    "rect1_clamped = rect1.clamp(rect2)\n",
    "print(f\"rect1.clamp(rect2) 返回的新Rect: {rect1_clamped}, rect1: {rect1}, rect2: {rect2}\")\n",
    "\n",
    "# 如果原Rect已经完全在目标Rect内，则返回的Rect与原Rect相同\n",
    "rect2_clamped = rect2.clamp(rect2)\n",
    "print(f\"rect2.clamp(rect2) 返回的新Rect: {rect2_clamped}, rect2: {rect2}\")"
   ]
  },
  {
   "cell_type": "code",
   "execution_count": 17,
   "id": "1e0f3cd3",
   "metadata": {},
   "outputs": [
    {
     "name": "stdout",
     "output_type": "stream",
     "text": [
      "rect1 和 rect2 合并后的 Rect: <rect(10, 20, 200, 115)>\n"
     ]
    }
   ],
   "source": [
    "# 使用 union 方法将两个 Rect 对象合并为一个能同时包含它们的新 Rect\n",
    "rect_merged = rect1.union(rect2)\n",
    "print(f\"rect1 和 rect2 合并后的 Rect: {rect_merged}\")"
   ]
  },
  {
   "cell_type": "code",
   "execution_count": 18,
   "id": "d8729052",
   "metadata": {},
   "outputs": [
    {
     "name": "stdout",
     "output_type": "stream",
     "text": [
      "rect1 是否在 rect2 内部: False\n",
      "rect2_clamped 是否在 rect2 内部: True\n"
     ]
    }
   ],
   "source": [
    "# 判断 rect1 是否在 rect2 内部\n",
    "is_rect1_in_rect2 = rect2.contains(rect1)\n",
    "print(f\"rect1 是否在 rect2 内部: {is_rect1_in_rect2}\")  # 结果为 False\n",
    "\n",
    "# 判断 rect2_clamped 是否在 rect2 内部\n",
    "is_rect2_clamped_in_rect2 = rect2.contains(rect2_clamped)\n",
    "print(f\"rect2_clamped 是否在 rect2 内部: {is_rect2_clamped_in_rect2}\")  # 结果为 True"
   ]
  },
  {
   "cell_type": "code",
   "execution_count": 19,
   "id": "6a57f2a9",
   "metadata": {},
   "outputs": [
    {
     "name": "stdout",
     "output_type": "stream",
     "text": [
      "点 (15, 25) 是否在 rect1 内部: True\n",
      "点 (200, 200) 是否在 rect1 内部: False\n"
     ]
    }
   ],
   "source": [
    "# 判断点 (15, 25) 是否在 rect1 内部（应为 True）\n",
    "point_inside = (15, 25)\n",
    "is_inside = rect1.collidepoint(point_inside)\n",
    "print(f\"点 {point_inside} 是否在 rect1 内部: {is_inside}\")\n",
    "\n",
    "# 判断点 (200, 200) 是否在 rect1 内部（应为 False）\n",
    "point_outside = (200, 200)\n",
    "is_outside = rect1.collidepoint(point_outside)\n",
    "print(f\"点 {point_outside} 是否在 rect1 内部: {is_outside}\")"
   ]
  },
  {
   "cell_type": "code",
   "execution_count": 20,
   "id": "b925fdf6",
   "metadata": {},
   "outputs": [],
   "source": [
    "Rect = pygame.Rect\n",
    "r = Rect(0, 0, 10, 10)\n",
    "\n",
    "list_of_rects = [Rect(1, 1, 1, 1), Rect(2, 2, 2, 2)]\n",
    "indices0 = r.collidelistall(list_of_rects)\n",
    "\n",
    "list_of_lists = [[1, 1, 1, 1], [2, 2, 2, 2]]\n",
    "indices1 = r.collidelistall(list_of_lists)\n",
    "\n",
    "list_of_tuples = [(1, 1, 1, 1), (2, 2, 2, 2)]\n",
    "indices2 = r.collidelistall(list_of_tuples)\n",
    "\n",
    "list_of_double_tuples = [((1, 1), (1, 1)), ((2, 2), (2, 2))]\n",
    "indices3 = r.collidelistall(list_of_double_tuples)\n",
    "\n",
    "class ObjectWithRectAttribute(object):\n",
    "    def __init__(self, r):\n",
    "        self.rect = r\n",
    "\n",
    "list_of_object_with_rect_attribute = [\n",
    "    ObjectWithRectAttribute(Rect(1, 1, 1, 1)),\n",
    "    ObjectWithRectAttribute(Rect(2, 2, 2, 2)),\n",
    "]\n",
    "indices4 = r.collidelistall(list_of_object_with_rect_attribute)\n",
    "\n",
    "class ObjectWithCallableRectAttribute(object):\n",
    "    def __init__(self, r):\n",
    "        self._rect = r\n",
    "\n",
    "    def rect(self):\n",
    "        return self._rect\n",
    "\n",
    "list_of_object_with_callable_rect = [\n",
    "    ObjectWithCallableRectAttribute(Rect(1, 1, 1, 1)),\n",
    "    ObjectWithCallableRectAttribute(Rect(2, 2, 2, 2)),\n",
    "]\n",
    "indices5 = r.collidelistall(list_of_object_with_callable_rect)"
   ]
  },
  {
   "cell_type": "code",
   "execution_count": 21,
   "id": "854fe0db",
   "metadata": {},
   "outputs": [
    {
     "name": "stdout",
     "output_type": "stream",
     "text": [
      "<rect(1, 1, 10, 10)>\n",
      "<ObjectWithSomRectAttribute(\"B\", [1, 1, 10, 10], [300, 300, 50, 50])>\n",
      "None\n"
     ]
    }
   ],
   "source": [
    "r = Rect(1, 1, 10, 10)\n",
    "\n",
    "rects = [\n",
    "    Rect(1, 1, 10, 10),\n",
    "    Rect(5, 5, 10, 10),\n",
    "    Rect(15, 15, 1, 1),\n",
    "    Rect(2, 2, 1, 1),\n",
    "]\n",
    "\n",
    "result = r.collideobjects(rects)  # -> <rect(1, 1, 10, 10)>\n",
    "print(result)\n",
    "\n",
    "class ObjectWithSomRectAttribute:\n",
    "    def __init__(self, name, collision_box, draw_rect):\n",
    "        self.name = name\n",
    "        self.draw_rect = draw_rect\n",
    "        self.collision_box = collision_box\n",
    "\n",
    "    def __repr__(self):\n",
    "        return f'<{self.__class__.__name__}(\"{self.name}\", {list(self.collision_box)}, {list(self.draw_rect)})>'\n",
    "\n",
    "objects = [\n",
    "    ObjectWithSomRectAttribute(\"A\", Rect(15, 15, 1, 1), Rect(150, 150, 50, 50)),\n",
    "    ObjectWithSomRectAttribute(\"B\", Rect(1, 1, 10, 10), Rect(300, 300, 50, 50)),\n",
    "    ObjectWithSomRectAttribute(\"C\", Rect(5, 5, 10, 10), Rect(200, 500, 50, 50)),\n",
    "]\n",
    "\n",
    "# collision = r.collideobjects(objects) # this does not work because the items in the list are no Rect like object\n",
    "collision = r.collideobjects(\n",
    "    objects, key=lambda o: o.collision_box\n",
    ")  # -> <ObjectWithSomRectAttribute(\"B\", [1, 1, 10, 10], [300, 300, 50, 50])>\n",
    "print(collision)\n",
    "\n",
    "screen_rect = r.collideobjects(objects, key=lambda o: o.draw_rect)  # -> None\n",
    "print(screen_rect)"
   ]
  },
  {
   "cell_type": "code",
   "execution_count": 22,
   "id": "30263bf1",
   "metadata": {},
   "outputs": [
    {
     "name": "stdout",
     "output_type": "stream",
     "text": [
      "[<rect(1, 1, 10, 10)>, <rect(5, 5, 10, 10)>, <rect(2, 2, 1, 1)>]\n",
      "[<ObjectWithSomRectAttribute(\"A\", [1, 1, 10, 10], [300, 300, 50, 50])>, <ObjectWithSomRectAttribute(\"B\", [5, 5, 10, 10], [200, 500, 50, 50])>]\n",
      "[]\n"
     ]
    }
   ],
   "source": [
    "r = Rect(1, 1, 10, 10)\n",
    "\n",
    "rects = [\n",
    "    Rect(1, 1, 10, 10),\n",
    "    Rect(5, 5, 10, 10),\n",
    "    Rect(15, 15, 1, 1),\n",
    "    Rect(2, 2, 1, 1),\n",
    "]\n",
    "\n",
    "result = r.collideobjectsall(\n",
    "    rects\n",
    ")  # -> [<rect(1, 1, 10, 10)>, <rect(5, 5, 10, 10)>, <rect(2, 2, 1, 1)>]\n",
    "print(result)\n",
    "\n",
    "class ObjectWithSomRectAttribute:\n",
    "    def __init__(self, name, collision_box, draw_rect):\n",
    "        self.name = name\n",
    "        self.draw_rect = draw_rect\n",
    "        self.collision_box = collision_box\n",
    "\n",
    "    def __repr__(self):\n",
    "        return f'<{self.__class__.__name__}(\"{self.name}\", {list(self.collision_box)}, {list(self.draw_rect)})>'\n",
    "\n",
    "objects = [\n",
    "    ObjectWithSomRectAttribute(\"A\", Rect(1, 1, 10, 10), Rect(300, 300, 50, 50)),\n",
    "    ObjectWithSomRectAttribute(\"B\", Rect(5, 5, 10, 10), Rect(200, 500, 50, 50)),\n",
    "    ObjectWithSomRectAttribute(\"C\", Rect(15, 15, 1, 1), Rect(150, 150, 50, 50)),\n",
    "]\n",
    "\n",
    "# collisions = r.collideobjectsall(objects) # this does not work because ObjectWithSomRectAttribute is not a Rect like object\n",
    "collisions = r.collideobjectsall(\n",
    "    objects, key=lambda o: o.collision_box\n",
    ")  # -> [<ObjectWithSomRectAttribute(\"A\", [1, 1, 10, 10], [300, 300, 50, 50])>, <ObjectWithSomRectAttribute(\"B\", [5, 5, 10, 10], [200, 500, 50, 50])>]\n",
    "print(collisions)\n",
    "\n",
    "screen_rects = r.collideobjectsall(objects, key=lambda o: o.draw_rect)  # -> []\n",
    "print(screen_rects)"
   ]
  }
 ],
 "metadata": {
  "kernelspec": {
   "display_name": ".venv",
   "language": "python",
   "name": "python3"
  },
  "language_info": {
   "codemirror_mode": {
    "name": "ipython",
    "version": 3
   },
   "file_extension": ".py",
   "mimetype": "text/x-python",
   "name": "python",
   "nbconvert_exporter": "python",
   "pygments_lexer": "ipython3",
   "version": "3.11.9"
  }
 },
 "nbformat": 4,
 "nbformat_minor": 5
}

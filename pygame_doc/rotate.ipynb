{
 "cells": [
  {
   "cell_type": "markdown",
   "id": "b9dec2fe",
   "metadata": {},
   "source": [
    "# 处理pygame中对象的转动问题"
   ]
  },
  {
   "cell_type": "code",
   "execution_count": 4,
   "id": "697fe57f",
   "metadata": {},
   "outputs": [],
   "source": [
    "import pygame\n",
    "from time import sleep\n",
    "\n",
    "# 初始化pygame\n",
    "pygame.init()\n",
    "screen = pygame.display.set_mode((800, 600))\n",
    "screen.fill((0, 0, 0)) # 清屏\n",
    "clock = pygame.time.Clock()\n",
    "\n",
    "image = pygame.image.load(\"small.png\")\n",
    "center_x, center_y = screen.get_width() // 2, screen.get_height() // 2\n",
    "rect = image.get_rect(center=(center_x, center_y))\n",
    "\n",
    "\n",
    "running = True\n",
    "while running:\n",
    "    clock.tick(60)  # 控制帧率\n",
    "    # screen.fill((0, 0, 0)) # 清屏\n",
    "    \n",
    "    # 处理事件\n",
    "    for event in pygame.event.get():\n",
    "        if event.type == pygame.QUIT:\n",
    "            running = False\n",
    "        if event.type == pygame.KEYDOWN:\n",
    "            if event.key == pygame.K_ESCAPE:\n",
    "                running = False\n",
    "\n",
    "    rotate_image = pygame.transform.rotate(image, -90)\n",
    "    rotate_rect = rotate_image.get_rect(center=rect.center)\n",
    "    \n",
    "    # screen.blit(rect_surf, rotated_rect.topleft)  # 绘制旋转后的长方形\n",
    "    screen.blit(rotate_image, rotate_rect)  # 使用rect.topleft作为位置\n",
    "    pygame.display.flip()\n",
    "\n",
    "pygame.quit()"
   ]
  }
 ],
 "metadata": {
  "kernelspec": {
   "display_name": ".venv",
   "language": "python",
   "name": "python3"
  },
  "language_info": {
   "codemirror_mode": {
    "name": "ipython",
    "version": 3
   },
   "file_extension": ".py",
   "mimetype": "text/x-python",
   "name": "python",
   "nbconvert_exporter": "python",
   "pygments_lexer": "ipython3",
   "version": "3.11.9"
  }
 },
 "nbformat": 4,
 "nbformat_minor": 5
}
